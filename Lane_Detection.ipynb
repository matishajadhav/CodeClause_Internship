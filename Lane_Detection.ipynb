{
 "cells": [
  {
   "cell_type": "code",
   "execution_count": 1,
   "id": "7760c6d1",
   "metadata": {},
   "outputs": [],
   "source": [
    "import cv2\n",
    "import numpy as np\n",
    "import matplotlib.pyplot as plt"
   ]
  },
  {
   "cell_type": "code",
   "execution_count": 2,
   "id": "f19d4a2c",
   "metadata": {},
   "outputs": [],
   "source": [
    "def roi(image, vertices):\n",
    "    mask = np.zeros_like(image)\n",
    "    mask_color = 255\n",
    "    cv2.fillPoly(mask, vertices, mask_color)\n",
    "    masked_img = cv2.bitwise_and(image, mask)\n",
    "    return masked_img"
   ]
  },
  {
   "cell_type": "code",
   "execution_count": 3,
   "id": "08941f0c",
   "metadata": {},
   "outputs": [],
   "source": [
    "def draw_lines(lines, image):\n",
    "    for line in lines:\n",
    "        x1, y1, x2, y2 = line[0]\n",
    "        cv2.line(image, (x1, y1), (x2, y2), (0, 255, 0), 2)\n",
    "    return image"
   ]
  },
  {
   "cell_type": "code",
   "execution_count": 8,
   "id": "b4d15a63",
   "metadata": {},
   "outputs": [],
   "source": [
    "def process(img):\n",
    "    try:\n",
    "        h, w, _ = img.shape\n",
    "        roi_vertices = [\n",
    "            (200, h),\n",
    "            (w/2, 2*h/3),\n",
    "            (w-100, h) \n",
    "        ]\n",
    "        \n",
    "        \n",
    "        grayimg = cv2.cvtColor(img, cv2.COLOR_BGR2GRAY)\n",
    "        \n",
    "        kernel = np.ones((3,3), np.uint8)\n",
    "        grayimg = cv2.dilate(grayimg, kernel=kernel)\n",
    "        \n",
    "        canny = cv2.Canny(grayimg, 60, 255)\n",
    "        \n",
    "        roi_image = roi(canny, np.array([roi_vertices], np.uint32))\n",
    "        \n",
    "        hough_lines = cv2.HoughLinesP(roi_image, 1, np.pi/180, 40, minLineLength=10, maxLineGap=5)\n",
    "        fimg = draw_lines(hough_lines, img)\n",
    "        return fimg\n",
    "    \n",
    "    except Exception:\n",
    "        return img\n",
    "    "
   ]
  },
  {
   "cell_type": "code",
   "execution_count": 9,
   "id": "758d72fa",
   "metadata": {},
   "outputs": [],
   "source": [
    "cap = cv2.VideoCapture(\"D:/CodeClause_AI_Internship/ROAD_LANE_DETECTION/New folder/Data/Manhattan_Trim.mp4\")\n",
    "\n",
    "frame_width = int(cap.get(cv2.CAP_PROP_FRAME_WIDTH))\n",
    "frame_height = int(cap.get(cv2.CAP_PROP_FRAME_HEIGHT))\n",
    "\n",
    "fourcc = cv2.VideoWriter_fourcc(*\"XVID\")\n",
    "saved_frame = cv2.VideoWriter(\"Manhattan_detection.avi\", fourcc, 30.0, (frame_width, frame_height))\n",
    "\n",
    "\n",
    "while cap.isOpened():\n",
    "    _, frame = cap.read()\n",
    "    \n",
    "    try:\n",
    "        \n",
    "        frame = process(frame)\n",
    "        saved_frame.write(frame)\n",
    "        cv2.imshow(\"final\", frame)\n",
    "        \n",
    "        if cv2.waitKey(1) & 0xFF == 27:\n",
    "            break\n",
    "            \n",
    "    except Exception:\n",
    "        break\n",
    "        \n",
    "cap.release()\n",
    "saved_frame.release()\n",
    "cv2.destroyAllWindows()"
   ]
  },
  {
   "cell_type": "code",
   "execution_count": null,
   "id": "5b9a2f72",
   "metadata": {},
   "outputs": [],
   "source": []
  },
  {
   "cell_type": "code",
   "execution_count": null,
   "id": "442f74dc",
   "metadata": {},
   "outputs": [],
   "source": []
  }
 ],
 "metadata": {
  "kernelspec": {
   "display_name": "Python 3 (ipykernel)",
   "language": "python",
   "name": "python3"
  },
  "language_info": {
   "codemirror_mode": {
    "name": "ipython",
    "version": 3
   },
   "file_extension": ".py",
   "mimetype": "text/x-python",
   "name": "python",
   "nbconvert_exporter": "python",
   "pygments_lexer": "ipython3",
   "version": "3.9.7"
  }
 },
 "nbformat": 4,
 "nbformat_minor": 5
}
